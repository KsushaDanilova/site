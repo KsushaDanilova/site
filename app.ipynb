{
 "cells": [
  {
   "cell_type": "code",
   "execution_count": 1,
   "metadata": {},
   "outputs": [],
   "source": [
    "from flask import Flask, render_template, request, redirect, url_for\n",
    "from sqlalchemy import func\n",
    "from flask_sqlalchemy import SQLAlchemy\n",
    "\n",
    "\n",
    "\n"
   ]
  },
  {
   "cell_type": "code",
   "execution_count": 9,
   "metadata": {},
   "outputs": [
    {
     "ename": "SyntaxError",
     "evalue": "invalid syntax (<ipython-input-9-5363ed1caaf1>, line 9)",
     "output_type": "error",
     "traceback": [
      "\u001b[1;36m  File \u001b[1;32m\"<ipython-input-9-5363ed1caaf1>\"\u001b[1;36m, line \u001b[1;32m9\u001b[0m\n\u001b[1;33m    name = db.Column(db.Text)\u001b[0m\n\u001b[1;37m       ^\u001b[0m\n\u001b[1;31mSyntaxError\u001b[0m\u001b[1;31m:\u001b[0m invalid syntax\n"
     ]
    }
   ],
   "source": [
    "app = Flask(__name__)\n",
    "app.config['SQLALCHEMY_DATABASE_URI'] = 'sqlite:///test.db'\n",
    "db = SQLAlchemy(app)\n",
    "\n",
    "\n",
    "class User(db.Model):\n",
    "    __tablename__ = 'user'\n",
    "    id = db.Column(db.Integer, primary_key=True)\\\n",
    "    name = db.Column(db.Text)\n",
    "    age = db.Column(db.Integer)\n",
    "    country = db.Column(db.Text)\n",
    "\n",
    "class Questions(db.Model):\n",
    "    __tablename__ = 'questions'\n",
    "    id = db.Column(db.Integer, primary_key=True)\n",
    "    text = db.Column(db.Text)\n",
    "\n",
    "\n",
    "class Answers(db.Model):\n",
    "    __tablename__ = 'answers'\n",
    "    id = db.Column(db.Integer, primary_key=True)\n",
    "    q1 = db.Column(db.Text)\n",
    "    q2 = db.Column(db.Text)\n",
    "    q3 = db.Column(db.Text)\n",
    "    q4 = db.Column(db.Text)\n",
    "    q5 = db.Column(db.Text)\n",
    "    q6 = db.Column(db.Integer)\n",
    "    q7 = db.Column(db.Integer)\n",
    "\n",
    "\n",
    "@app.route(\"/for\")\n",
    "def question_page():\n",
    "    questions = Questions.query.all()\n",
    "    return render_template(\n",
    "        'form.html',\n",
    "        questions=questions\n",
    "    )\n",
    "\n",
    "\n",
    "@app.route('/process', methods=['get'])\n",
    "def answer_process():\n",
    "    if not request.args:\n",
    "        return redirect(url_for('question_page'))\n",
    "    name = request.args.get('name')\n",
    "    age = request.args.get('age')\n",
    "    country = request.args.get('country')\n",
    "    user = User(\n",
    "        name=name,\n",
    "        age=age,\n",
    "        country=country,\n",
    "    )\n",
    "    db.session.add(user)\n",
    "    db.session.commit()\n",
    "    db.session.refresh(user)\n",
    "    q1 = request.args.get('q1')\n",
    "    q2 = request.args.get('q2')\n",
    "    q3 = request.args.get('q3')\n",
    "    q4 = request.args.get('q4')\n",
    "    q5 = request.args.get('q5')\n",
    "    q6 = request.args.get('q6')\n",
    "    q7 = request.args.get('q7')\n",
    "    answer = Answers(id=user.id, q1=q1, q2=q2, q3=q3, q4=q4, q5=q5, q6=q6, q7=q7)\n",
    "    db.session.add(answer)\n",
    "    db.session.commit()\n",
    "    return 'Ok'\n",
    "\n",
    "\n",
    "@app.route(\"/stat\")\n",
    "def stats():\n",
    "    all_info = {}\n",
    "    age_stats = db.session.query(\n",
    "        func.avg(User.age),\n",
    "        func.min(User.age),\n",
    "        func.max(User.age)\n",
    "    ).one()\n",
    "    all_info['age_mean'] = age_stats[0]\n",
    "    all_info['age_min'] = age_stats[1]\n",
    "    all_info['age_max'] = age_stats[2]\n",
    "    all_info['total_count'] = User.query.count()\n",
    "    all_info['q1_mean'] = db.session.query(func.avg(Answers.q1)).one()[0]\n",
    "    q1_answers = db.session.query(Answers.q1).all()\n",
    "    return render_template('statistics.html', all_info=all_info)\n",
    "\n",
    "\n",
    "if __name__ == '__main__':\n",
    "    app.run()\n"
   ]
  },
  {
   "cell_type": "code",
   "execution_count": null,
   "metadata": {},
   "outputs": [],
   "source": []
  }
 ],
 "metadata": {
  "kernelspec": {
   "display_name": "Python 3",
   "language": "python",
   "name": "python3"
  },
  "language_info": {
   "codemirror_mode": {
    "name": "ipython",
    "version": 3
   },
   "file_extension": ".py",
   "mimetype": "text/x-python",
   "name": "python",
   "nbconvert_exporter": "python",
   "pygments_lexer": "ipython3",
   "version": "3.7.4"
  }
 },
 "nbformat": 4,
 "nbformat_minor": 4
}
