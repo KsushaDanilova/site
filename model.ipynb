{
 "cells": [
  {
   "cell_type": "code",
   "execution_count": 1,
   "metadata": {},
   "outputs": [],
   "source": [
    "import sqlite3\n",
    "import pandas as pd\n",
    "con = sqlite3.connect('test.db') \n",
    "cur = con.cursor()"
   ]
  },
  {
   "cell_type": "code",
   "execution_count": 3,
   "metadata": {},
   "outputs": [],
   "source": [
    "cur.execute(\"\"\"\n",
    "CREATE TABLE user (\n",
    "    id INT, \n",
    "    name TEXT, \n",
    "    age INT,\n",
    "    country TEXT,\n",
    "    PRIMARY KEY (id)\n",
    ")\n",
    "\"\"\")\n",
    "con.commit()"
   ]
  },
  {
   "cell_type": "code",
   "execution_count": 4,
   "metadata": {},
   "outputs": [],
   "source": [
    "cur.execute(\"\"\"\n",
    "CREATE TABLE answers (\n",
    "    id INT, \n",
    "    q1 TEXT, \n",
    "    q2 TEXT,\n",
    "    q3 TEXT,\n",
    "    q4 TEXT, \n",
    "    q5 TEXT,\n",
    "    q6 INT,\n",
    "    q7 INT,\n",
    "    PRIMARY KEY (id)\n",
    ")\n",
    "\"\"\")\n",
    "con.commit()"
   ]
  },
  {
   "cell_type": "code",
   "execution_count": 5,
   "metadata": {},
   "outputs": [],
   "source": [
    "cur.execute(\"\"\"\n",
    "CREATE TABLE questions (\n",
    "    id INT, \n",
    "    text TEXT, \n",
    "    PRIMARY KEY (id)\n",
    ")\n",
    "\"\"\")\n",
    "con.commit()"
   ]
  },
  {
   "cell_type": "code",
   "execution_count": null,
   "metadata": {},
   "outputs": [],
   "source": [
    "films_query = \"\"\"\n",
    "SELECT titles.title_id, title, premiered, rating\n",
    "FROM titles\n",
    "    JOIN rating on titles.title_id = rating.title_id\n",
    "WHERE title in (\"Breakfast at Tiffany's\", \"That Certain Feeling\", \"Do Men Love Women?\", \"Load My Mouth\", \"Tell It to a Star\", \"Bandits of El Dorado\", \"Run the wild river\", \"Loa\", \"Duel at Diablo\", \"Barely Ivey\" )\n",
    "\"\"\"\n",
    "cur.execute(films_query)\n",
    "data = cur.fetchall()\n",
    "print(data)\n"
   ]
  }
 ],
 "metadata": {
  "kernelspec": {
   "display_name": "Python 3",
   "language": "python",
   "name": "python3"
  },
  "language_info": {
   "codemirror_mode": {
    "name": "ipython",
    "version": 3
   },
   "file_extension": ".py",
   "mimetype": "text/x-python",
   "name": "python",
   "nbconvert_exporter": "python",
   "pygments_lexer": "ipython3",
   "version": "3.7.4"
  }
 },
 "nbformat": 4,
 "nbformat_minor": 4
}
